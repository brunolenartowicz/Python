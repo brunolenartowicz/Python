{
 "cells": [
  {
   "cell_type": "code",
   "execution_count": null,
   "metadata": {},
   "outputs": [],
   "source": [
    "import pandas as pd\n",
    "import plotly.express as px\n",
    "\n",
    "#IMPORTAR BASE DE DADOS\n",
    "tabela = pd.read_csv(\"telecom_users.csv\")\n",
    "\n",
    "#DELETAR COLUNA DESNECESSÁRIA\n",
    "tabela = tabela.drop(\"Unnamed: 0\", axis=1)\n",
    "\n",
    "#CONVERTER TIPO DO DADO DA COLUNA\n",
    "tabela[\"TotalGasto\"] = pd.to_numeric(tabela[\"TotalGasto\"], errors = \"coerce\")\n",
    "\n",
    "#EXCLUIR COLUNA VAZIA\n",
    "tabela = tabela.dropna(how=\"all\", axis=1)\n",
    "\n",
    "#EXCLUIR LINHAS VAZIAS\n",
    "tabela = tabela.dropna(how=\"any\", axis=0)"
   ]
  },
  {
   "cell_type": "code",
   "execution_count": null,
   "metadata": {},
   "outputs": [],
   "source": [
    "#VALOR TOTAL\n",
    "display(tabela[\"Churn\"].value_counts())\n",
    "\n",
    "#PERCENTUAL\n",
    "display(tabela[\"Churn\"].value_counts(normalize=True))\n",
    "\n",
    "#PERCENTUAL FORMATADO\n",
    "display(tabela[\"Churn\"].value_counts(normalize=True).map(\"{:.1%}\".format))"
   ]
  },
  {
   "cell_type": "code",
   "execution_count": null,
   "metadata": {},
   "outputs": [],
   "source": [
    "for coluna in tabela:\n",
    "    grafico = px.histogram(tabela, x=coluna, color=\"Churn\")\n",
    "    grafico.show()"
   ]
  },
  {
   "cell_type": "code",
   "execution_count": null,
   "metadata": {},
   "outputs": [],
   "source": [
    "print(tabela.info())"
   ]
  }
 ],
 "metadata": {
  "kernelspec": {
   "display_name": "Python 3.9.12 ('base')",
   "language": "python",
   "name": "python3"
  },
  "language_info": {
   "codemirror_mode": {
    "name": "ipython",
    "version": 3
   },
   "file_extension": ".py",
   "mimetype": "text/x-python",
   "name": "python",
   "nbconvert_exporter": "python",
   "pygments_lexer": "ipython3",
   "version": "3.9.12"
  },
  "orig_nbformat": 4,
  "vscode": {
   "interpreter": {
    "hash": "ad2bdc8ecc057115af97d19610ffacc2b4e99fae6737bb82f5d7fb13d2f2c186"
   }
  }
 },
 "nbformat": 4,
 "nbformat_minor": 2
}
