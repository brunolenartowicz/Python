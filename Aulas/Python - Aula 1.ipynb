{
 "cells": [
  {
   "cell_type": "markdown",
   "metadata": {},
   "source": [
    "# Automação de Sistemas e Processos com Python\n",
    "\n",
    "### Desafio:\n",
    "\n",
    "Todos os dias, o nosso sistema atualiza as vendas do dia anterior.\n",
    "O seu trabalho diário, como analista, é enviar um e-mail para a diretoria, assim que começar a trabalhar, com o faturamento e a quantidade de produtos vendidos no dia anterior\n",
    "\n",
    "E-mail da diretoria: seugmail+diretoria@gmail.com<br>\n",
    "Local onde o sistema disponibiliza as vendas do dia anterior: https://drive.google.com/drive/folders/149xknr9JvrlEnhNWO49zPcw0PW5icxga?usp=sharing\n",
    "\n",
    "Para resolver isso, vamos usar o pyautogui, uma biblioteca de automação de comandos do mouse e do teclado"
   ]
  },
  {
   "cell_type": "code",
   "execution_count": 1,
   "metadata": {},
   "outputs": [],
   "source": [
    "import pyautogui\n",
    "import time\n",
    "import pyperclip\n",
    "\n",
    "pyautogui.PAUSE = 1\n",
    " \n",
    "link = 'https://drive.google.com/drive/folders/149xknr9JvrlEnhNWO49zPcw0PW5icxga?usp=sharing'\n",
    "pyperclip.copy(link)\n",
    "\n",
    "# Criar nova aba\n",
    "#pyautogui.keyDown('ctrl')\n",
    "#pyautogui.press('t')\n",
    "#pyautogui.keyUp('ctrl')\n",
    "#ou\n",
    "#pyautogui.hotkey('ctrl','t')\n",
    "\n",
    "# Abrir nova janela\n",
    "pyautogui.press('win')\n",
    "pyautogui.write('crome')\n",
    "pyautogui.press('enter')\n",
    "\n",
    "# Abrir Site\n",
    "#pyautogui.keyDown('ctrl')\n",
    "#pyautogui.press('v')\n",
    "#pyautogui.keyUp('ctrl')\n",
    "pyautogui.hotkey('ctrl','v')\n",
    "pyautogui.press('enter')\n",
    "\n",
    "\n",
    "#Aguarda o site carregar\n",
    "time.sleep(6)\n",
    "\n",
    "#Duplo click na pasta \"Exportar\"\n",
    "pyautogui.click(488, 431, clicks=2)\n",
    "time.sleep(2)\n",
    "\n",
    "#Clicar no Exel de vendas\n",
    "pyautogui.click(488, 431)\n",
    "time.sleep(0.5)\n",
    "\n",
    "#Clicar nos \"3 pontinhos\"\n",
    "pyautogui.click(1616, 231)\n",
    "time.sleep(0.5)\n",
    "\n",
    "#Clicar em fazer download\n",
    "pyautogui.click(1244, 893)\n",
    "\n",
    "#Aguarda o download do excel\n",
    "time.sleep(4)"
   ]
  },
  {
   "cell_type": "code",
   "execution_count": 25,
   "metadata": {},
   "outputs": [
    {
     "name": "stdout",
     "output_type": "stream",
     "text": [
      "2917311\n",
      "15227\n"
     ]
    }
   ],
   "source": [
    "import pandas as pd\n",
    "\n",
    "#Lendo arquivo Excel\n",
    "tabela = pd.read_excel(r\"C:\\Users\\Bruno\\Downloads\\Vendas - Dez.xlsx\")\n",
    "\n",
    "#soma coluna Valor Final\n",
    "faturamento = tabela['Valor Final'].sum()\n",
    "\n",
    "#soma coluna Quantidade\n",
    "quantidade = tabela['Quantidade'].sum()\n",
    "\n",
    "#print(tabela)\n",
    "#display(tabela)"
   ]
  },
  {
   "cell_type": "markdown",
   "metadata": {},
   "source": [
    "### Vamos agora enviar um e-mail pelo gmail"
   ]
  },
  {
   "cell_type": "code",
   "execution_count": 44,
   "metadata": {},
   "outputs": [],
   "source": [
    "pyperclip.copy(linkemail)\n",
    "\n",
    "#Criar nova aba\n",
    "pyautogui.hotkey('ctrl','t')\n",
    "\n",
    "#Acessar Gmail\n",
    "linkemail = 'https://mail.google.com/'\n",
    "pyautogui.hotkey('ctrl','v')\n",
    "pyautogui.press('enter')\n",
    "time.sleep(5)\n",
    "\n",
    "#Clicar em \"Escrever\"\n",
    "pyautogui.click(111, 269)\n",
    "time.sleep(3)\n",
    "\n",
    "#Inserir destinatário do email\n",
    "pyautogui.write('brunolenartowicz@yahoo.com.br')\n",
    "pyautogui.press('tab')\n",
    "pyautogui.press('tab')\n",
    "\n",
    "\n",
    "#Inserindo o Assunto\n",
    "assunto = 'Relatório de Vendas'\n",
    "pyperclip.copy(assunto)\n",
    "pyautogui.hotkey('ctrl','v')\n",
    "\n",
    "pyautogui.press('tab')\n",
    "\n",
    "#Inserindo o Corpo do email\n",
    "texto_email = f\"\"\"\n",
    "Prezados Bom Dia\n",
    "\n",
    "O faturamento de ontem foi de: R${faturamento:,.2f}\n",
    "A quantidade de itens vendidos foi de:{quantidade:,.2f}\n",
    "Att\n",
    "\"\"\"\n",
    "pyautogui.write(texto_email)\n",
    "\n",
    "#Enviando email\n",
    "time.sleep(1)\n",
    "pyautogui.hotkey('ctrl','enter')\n",
    "\n",
    "\n",
    "\n"
   ]
  },
  {
   "cell_type": "code",
   "execution_count": 40,
   "metadata": {},
   "outputs": [],
   "source": [
    "time.sleep(4)\n",
    "\n",
    "pyautogui.hotkey('ctrl','enter')"
   ]
  },
  {
   "cell_type": "markdown",
   "metadata": {},
   "source": [
    "#### Use esse código para descobrir qual a posição de um item que queira clicar\n",
    "\n",
    "- Lembre-se: a posição na sua tela é diferente da posição na minha tela"
   ]
  },
  {
   "cell_type": "code",
   "execution_count": 32,
   "metadata": {},
   "outputs": [
    {
     "data": {
      "text/plain": [
       "Point(x=111, y=269)"
      ]
     },
     "execution_count": 32,
     "metadata": {},
     "output_type": "execute_result"
    }
   ],
   "source": [
    "time.sleep(4)\n",
    "pyautogui.position()"
   ]
  },
  {
   "cell_type": "code",
   "execution_count": null,
   "metadata": {},
   "outputs": [],
   "source": []
  }
 ],
 "metadata": {
  "kernelspec": {
   "display_name": "Python 3.9.12 ('base')",
   "language": "python",
   "name": "python3"
  },
  "language_info": {
   "codemirror_mode": {
    "name": "ipython",
    "version": 3
   },
   "file_extension": ".py",
   "mimetype": "text/x-python",
   "name": "python",
   "nbconvert_exporter": "python",
   "pygments_lexer": "ipython3",
   "version": "3.9.12"
  },
  "vscode": {
   "interpreter": {
    "hash": "59b23a439ce858f6c48b87cdc3961c05fe34c6c004d414990b7e953144d53d79"
   }
  }
 },
 "nbformat": 4,
 "nbformat_minor": 4
}
