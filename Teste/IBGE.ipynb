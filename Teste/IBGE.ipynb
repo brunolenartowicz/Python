{
 "cells": [
  {
   "cell_type": "code",
   "execution_count": 62,
   "metadata": {},
   "outputs": [
    {
     "name": "stdout",
     "output_type": "stream",
     "text": [
      "nome:0 e municipio = 23\n",
      "São Paulo [3550308] SP\n",
      "Município\n",
      "nome:-1 e municipio = 35\n",
      "São Paulo das Missões [4319307] RS\n",
      "Município\n",
      "nome:-1 e municipio = 35\n",
      "São Paulo de Olivença [1303908] AM\n",
      "Município\n",
      "nome:-1 e municipio = 34\n",
      "São Paulo do Potengi [2412609] RN\n",
      "Município\n"
     ]
    }
   ],
   "source": [
    "import time\n",
    "from selenium import webdriver\n",
    "from selenium.webdriver.common.keys import Keys\n",
    "from selenium.webdriver.common.by import By\n",
    "\n",
    "\n",
    "### DOLAR\n",
    "# ABRIR NAVEGADOR\n",
    "navegador = webdriver.Chrome()\n",
    "\n",
    "# CHAMAR URL DO SITE\n",
    "navegador.get(\"https://cidades.ibge.gov.br/\")\n",
    "#navegador.get(\"https://cidades.ibge.gov.br/brasil/pr/curitiba/panorama\")\n",
    "\n",
    "#PESQUISAR CIDADE\n",
    "navegador.find_element(By.XPATH, '/html/body/app/shell/header/busca/div/input').send_keys(\"São Paulo\")\n",
    "\n",
    "time.sleep(2)\n",
    "\n",
    "count = 2\n",
    "\n",
    "#caminho = navegador.find_element(By.XPATH, '/html/body/app/shell/header/busca/div/div[2]/div/div[1]/a').click()\n",
    "\n",
    "while count <= (4):\n",
    "    if count >= 1:  \n",
    "        caminho = navegador.find_element(By.XPATH, '/html/body/app/shell/header/busca/div/div[2]/div/div['+ str(count) + ']/a')\n",
    "        campo_nome = caminho.text.find('São Paulo [')\n",
    "        campo_municipio = caminho.text.find('Município')\n",
    "        print(f'nome:{campo_nome} e municipio = {campo_municipio}')\n",
    "        print(caminho.text)\n",
    "    count = count+1    \n",
    "\n",
    "\n",
    "        \n",
    "        \n",
    "#    if \"Município\" in caminho.text:\n",
    "#        navegador.find_element(By.XPATH, '/html/body/app/shell/header/busca/div/div[2]/div/div[{count}]/a/span[1]').click()\n",
    "#    else:\n",
    "#        count += 1\n",
    "#        navegador.find_element(By.XPATH, '/html/body/app/shell/header/busca/div/div[2]/div/div[{count}]/a/span[1]').click()\n",
    "\n",
    "#FUNCIONOU CARAI!!!!!!!!\n",
    "#content = navegador.find_element(By.XPATH, \"//*[@class='busca__auto-completar__resultado__item']//*[text()='Município']\").click()\n",
    "\n"
   ]
  },
  {
   "cell_type": "code",
   "execution_count": null,
   "metadata": {},
   "outputs": [],
   "source": []
  }
 ],
 "metadata": {
  "kernelspec": {
   "display_name": "Python 3.9.12 ('base')",
   "language": "python",
   "name": "python3"
  },
  "language_info": {
   "codemirror_mode": {
    "name": "ipython",
    "version": 3
   },
   "file_extension": ".py",
   "mimetype": "text/x-python",
   "name": "python",
   "nbconvert_exporter": "python",
   "pygments_lexer": "ipython3",
   "version": "3.9.12"
  },
  "orig_nbformat": 4,
  "vscode": {
   "interpreter": {
    "hash": "ad2bdc8ecc057115af97d19610ffacc2b4e99fae6737bb82f5d7fb13d2f2c186"
   }
  }
 },
 "nbformat": 4,
 "nbformat_minor": 2
}
