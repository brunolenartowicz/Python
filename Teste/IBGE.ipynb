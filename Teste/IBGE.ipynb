{
 "cells": [
  {
   "cell_type": "code",
   "execution_count": null,
   "metadata": {},
   "outputs": [],
   "source": [
    "import time\n",
    "from selenium import webdriver\n",
    "from selenium.webdriver.common.keys import Keys\n",
    "from selenium.webdriver.common.by import By\n",
    "\n",
    "\n",
    "### DOLAR\n",
    "# ABRIR NAVEGADOR\n",
    "navegador = webdriver.Chrome()\n",
    "\n",
    "# CHAMAR URL DO SITE\n",
    "navegador.get(\"https://cidades.ibge.gov.br/\")\n",
    "#navegador.get(\"https://cidades.ibge.gov.br/brasil/pr/curitiba/panorama\")\n",
    "\n",
    "# PESQUISAR CIDADE\n",
    "navegador.find_element_by_xpath(\n",
    "    '/html/body/app/shell/header/busca/div/input').send_keys(\"São Paulo Município\")\n",
    "\n",
    "time.sleep(2)\n",
    "\n",
    "count = 1\n",
    "\n",
    "caminho = navegador.find_element(By.XPATH, '/html/body/app/shell/header/busca/div/div[2]/div/div[1]/a').click()\n",
    "\n",
    "#for count in range(2):\n",
    "#    caminho = navegador.find_element(By.XPATH, '/html/body/app/shell/header/busca/div/div[2]/div/div[*]/a/span[1]')\n",
    "#    if \"Município\" in caminho.text:\n",
    "#        navegador.find_element(By.XPATH, '/html/body/app/shell/header/busca/div/div[2]/div/div[{count}]/a/span[1]').click()\n",
    "#    else:\n",
    "#        count += 1\n",
    "#        navegador.find_element(By.XPATH, '/html/body/app/shell/header/busca/div/div[2]/div/div[{count}]/a/span[1]').click()\n",
    "\n",
    "\n",
    "\n",
    "#print(caminho)\n",
    "#print(caminho.text)\n",
    "\n",
    "#/html/body/app/shell/header/busca/div/div[2]/div/div[1]/a\n",
    "#/html/body/app/shell/header/busca/div/div[2]/div/div[2]/a"
   ]
  }
 ],
 "metadata": {
  "kernelspec": {
   "display_name": "Python 3.9.12 ('base')",
   "language": "python",
   "name": "python3"
  },
  "language_info": {
   "codemirror_mode": {
    "name": "ipython",
    "version": 3
   },
   "file_extension": ".py",
   "mimetype": "text/x-python",
   "name": "python",
   "nbconvert_exporter": "python",
   "pygments_lexer": "ipython3",
   "version": "3.9.12"
  },
  "orig_nbformat": 4,
  "vscode": {
   "interpreter": {
    "hash": "ad2bdc8ecc057115af97d19610ffacc2b4e99fae6737bb82f5d7fb13d2f2c186"
   }
  }
 },
 "nbformat": 4,
 "nbformat_minor": 2
}
